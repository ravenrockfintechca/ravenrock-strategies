{
 "cells": [
  {
   "cell_type": "markdown",
   "source": ["# 🧠 FOMC Drift 检测器\n基于美联储利率决议前后 3 日涨幅偏移，统计多次平均表现"],
   "metadata": {}
  },
  {
   "cell_type": "code",
   "execution_count": null,
   "metadata": {},
   "outputs": [],
   "source": [
    "import yfinance as yf\nimport pandas as pd\n\ndata = yf.download('SPY', start='2015-01-01')\n# 示例仅提取数据，策略计算可进一步扩展"
   ]
  }
 ],
 "metadata": {},
 "nbformat": 4,
 "nbformat_minor": 2
}
